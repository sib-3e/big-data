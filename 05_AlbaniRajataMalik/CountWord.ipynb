{
 "cells": [
  {
   "cell_type": "code",
   "execution_count": 1,
   "id": "8b56f0dd-3a00-4227-888d-a926c8322049",
   "metadata": {},
   "outputs": [
    {
     "data": {
      "text/plain": [
       "[('Hello', 2),\n",
       " ('is', 1),\n",
       " ('awesome', 1),\n",
       " ('Spark', 3),\n",
       " ('Docker', 2),\n",
       " ('makes', 1),\n",
       " ('easy', 1)]"
      ]
     },
     "execution_count": 1,
     "metadata": {},
     "output_type": "execute_result"
    }
   ],
   "source": [
    "from pyspark.sql import SparkSession\n",
    "\n",
    "# Buat SparkSession\n",
    "spark = SparkSession.builder.appName(\"WordCount\").getOrCreate()\n",
    "sc = spark.sparkContext\n",
    "\n",
    "# Data\n",
    "textData = [\"Hello Spark\", \"Hello Docker\", \"Spark is awesome\", \"Docker makes Spark easy\"]\n",
    "rdd = sc.parallelize(textData)\n",
    "\n",
    "# Word count\n",
    "wordCounts = (\n",
    "    rdd.flatMap(lambda line: line.split(\" \"))\n",
    "       .map(lambda word: (word, 1))\n",
    "       .reduceByKey(lambda a, b: a + b)\n",
    ")\n",
    "\n",
    "# Tampilkan hasil\n",
    "wordCounts.collect()"
   ]
  },
  {
   "cell_type": "code",
   "execution_count": 4,
   "id": "2809c145-1097-4b36-90c2-9dc459c8174c",
   "metadata": {},
   "outputs": [
    {
     "data": {
      "text/plain": [
       "[('Spark', 3),\n",
       " ('is', 2),\n",
       " ('Apache', 2),\n",
       " ('Mesos,', 1),\n",
       " ('awesome', 1),\n",
       " ('run', 1),\n",
       " ('Kubernetes', 1),\n",
       " ('processing', 1),\n",
       " ('Hadoop,', 1),\n",
       " ('analytics', 1)]"
      ]
     },
     "execution_count": 4,
     "metadata": {},
     "output_type": "execute_result"
    }
   ],
   "source": [
    "from pyspark.sql import SparkSession\n",
    "\n",
    "# Inisialisasi Spark\n",
    "spark = SparkSession.builder.appName(\"WordCount\").getOrCreate()\n",
    "\n",
    "# Data contoh dalam memori\n",
    "data = [\n",
    "    \"Apache Spark is a unified analytics engine\",\n",
    "    \"Spark can run on Hadoop, Apache Mesos, Kubernetes\",\n",
    "    \"Spark is awesome for big data processing\"\n",
    "]\n",
    "\n",
    "rdd = spark.sparkContext.parallelize(data)\n",
    "\n",
    "# Word Count\n",
    "counts = (\n",
    "    rdd.flatMap(lambda x: x.split(' '))\n",
    "       .map(lambda x: (x, 1))\n",
    "       .reduceByKey(lambda a, b: a + b)\n",
    "       .sortBy(lambda x: x[1], ascending=False)\n",
    ")\n",
    "\n",
    "# Tampilkan 10 kata paling sering muncul\n",
    "counts.take(10)"
   ]
  },
  {
   "cell_type": "code",
   "execution_count": null,
   "id": "f47206df-dbbe-4951-ac64-b061d7d8649a",
   "metadata": {},
   "outputs": [],
   "source": []
  }
 ],
 "metadata": {
  "kernelspec": {
   "display_name": "Python 3 (ipykernel)",
   "language": "python",
   "name": "python3"
  },
  "language_info": {
   "codemirror_mode": {
    "name": "ipython",
    "version": 3
   },
   "file_extension": ".py",
   "mimetype": "text/x-python",
   "name": "python",
   "nbconvert_exporter": "python",
   "pygments_lexer": "ipython3",
   "version": "3.11.6"
  }
 },
 "nbformat": 4,
 "nbformat_minor": 5
}
