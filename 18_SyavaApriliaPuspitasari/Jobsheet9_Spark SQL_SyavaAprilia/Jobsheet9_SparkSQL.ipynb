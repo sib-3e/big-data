{
 "cells": [
  {
   "cell_type": "code",
   "execution_count": 2,
   "id": "dd5f38f9-47bd-44d5-a989-4aa3029a3723",
   "metadata": {},
   "outputs": [
    {
     "name": "stdout",
     "output_type": "stream",
     "text": [
      "+----------------+-----------+\n",
      "|Product_Category|total_sales|\n",
      "+----------------+-----------+\n",
      "|        Clothing|    8198902|\n",
      "|     Accessories|   13559164|\n",
      "|           Bikes|   61782134|\n",
      "+----------------+-----------+\n",
      "\n"
     ]
    }
   ],
   "source": [
    "from pyspark.sql import SparkSession\n",
    "from pyspark.sql.functions import sum, col\n",
    "\n",
    "# Inisialisasi SparkSession\n",
    "spark = SparkSession.builder \\\n",
    "    .appName(\"ETL_Pipeline\") \\\n",
    "    .getOrCreate()\n",
    "\n",
    "# Extract: Baca file CSV\n",
    "df = spark.read.csv(\"sales_data.csv\", header=True, inferSchema=True)\n",
    "\n",
    "# Transform: Filter Revenue > 100 dan hitung total penjualan per kategori\n",
    "df_filtered = df.filter(col(\"Revenue\") > 100)\n",
    "df_result = df_filtered.groupBy(\"Product_Category\") \\\n",
    "    .agg(sum(\"Revenue\").alias(\"total_sales\"))\n",
    "\n",
    "# Tampilkan hasil transformasi\n",
    "df_result.show()\n",
    "\n",
    "# Load: Simpan ke file Parquet\n",
    "df_result.write.mode(\"overwrite\").parquet(\"output_sales.parquet\")\n",
    "\n",
    "# Tutup sesi Spark\n",
    "spark.stop()"
   ]
  },
  {
   "cell_type": "code",
   "execution_count": 6,
   "id": "4c1a7da6-ce52-46d4-9805-456b110e6079",
   "metadata": {},
   "outputs": [],
   "source": [
    "from pyspark.sql import SparkSession\n",
    "\n",
    "spark = SparkSession.builder \\\n",
    "    .appName(\"Sales Analysis\") \\\n",
    "    .getOrCreate()"
   ]
  },
  {
   "cell_type": "code",
   "execution_count": 7,
   "id": "898d5429-a0a0-44de-91ab-2e082a9b2375",
   "metadata": {},
   "outputs": [
    {
     "name": "stdout",
     "output_type": "stream",
     "text": [
      "+-----+-------------+\n",
      "|month|total_revenue|\n",
      "+-----+-------------+\n",
      "|   12|     10158080|\n",
      "|    1|      7832338|\n",
      "|    6|     10085537|\n",
      "|    3|      8201790|\n",
      "|    5|      9859851|\n",
      "|    9|      6517880|\n",
      "|    4|      8485163|\n",
      "|    8|      6348349|\n",
      "|    7|      6392045|\n",
      "|   10|      6709394|\n",
      "|   11|      6977157|\n",
      "|    2|      7608734|\n",
      "+-----+-------------+\n",
      "\n",
      "+--------------------+------------+\n",
      "|             Product|total_orders|\n",
      "+--------------------+------------+\n",
      "|Water Bottle - 30...|       10794|\n",
      "| Patch Kit/8 Patches|       10416|\n",
      "|  Mountain Tire Tube|        6816|\n",
      "|        AWC Logo Cap|        4358|\n",
      "|Sport-100 Helmet,...|        4220|\n",
      "+--------------------+------------+\n",
      "\n"
     ]
    }
   ],
   "source": [
    "from pyspark.sql import SparkSession\n",
    "from pyspark.sql.functions import month, sum, count\n",
    "\n",
    "# 1. Start ulang SparkSession\n",
    "spark = SparkSession.builder \\\n",
    "    .appName(\"Sales Analysis\") \\\n",
    "    .getOrCreate()\n",
    "\n",
    "# 2. Load file CSV\n",
    "df = spark.read.csv(\"sales_data.csv\", header=True, inferSchema=True)\n",
    "\n",
    "# 3. Hitung pendapatan per bulan\n",
    "df_revenue = df.withColumn(\"month\", month(\"Date\")) \\\n",
    "    .groupBy(\"month\") \\\n",
    "    .agg(sum(df[\"Unit_Price\"] * df[\"Order_Quantity\"]).alias(\"total_revenue\"))\n",
    "\n",
    "df_revenue.show()\n",
    "\n",
    "# 4. Produk terlaris\n",
    "df_top_products = df.groupBy(\"Product\") \\\n",
    "    .agg(count(\"*\").alias(\"total_orders\")) \\\n",
    "    .orderBy(\"total_orders\", ascending=False) \\\n",
    "    .limit(5)\n",
    "\n",
    "df_top_products.show()"
   ]
  },
  {
   "cell_type": "code",
   "execution_count": 10,
   "id": "76cb0474-4f11-4b19-80ed-b69dbf55ab56",
   "metadata": {},
   "outputs": [],
   "source": [
    "df_revenue.write.mode(\"overwrite\").parquet(\"revenue_by_month.parquet\")\n",
    "df_top_products.write.mode(\"overwrite\").parquet(\"top_products.parquet\")"
   ]
  },
  {
   "cell_type": "code",
   "execution_count": null,
   "id": "ac3a2aac-df80-46e4-906f-8c1dd7ab66b3",
   "metadata": {},
   "outputs": [],
   "source": []
  },
  {
   "cell_type": "code",
   "execution_count": null,
   "id": "44fc4bd4-2aa3-456d-9f7a-7f8120ab0ba0",
   "metadata": {},
   "outputs": [],
   "source": []
  }
 ],
 "metadata": {
  "kernelspec": {
   "display_name": "Python 3 (ipykernel)",
   "language": "python",
   "name": "python3"
  },
  "language_info": {
   "codemirror_mode": {
    "name": "ipython",
    "version": 3
   },
   "file_extension": ".py",
   "mimetype": "text/x-python",
   "name": "python",
   "nbconvert_exporter": "python",
   "pygments_lexer": "ipython3",
   "version": "3.11.6"
  }
 },
 "nbformat": 4,
 "nbformat_minor": 5
}
