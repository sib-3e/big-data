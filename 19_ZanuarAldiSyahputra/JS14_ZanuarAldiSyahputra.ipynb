{
  "cells": [
    {
      "cell_type": "code",
      "execution_count": null,
      "id": "aabd7adb-63ea-473c-8db0-f61a31b7d928",
      "metadata": {
        "id": "aabd7adb-63ea-473c-8db0-f61a31b7d928"
      },
      "outputs": [],
      "source": [
        "from pyspark.sql import SparkSession\n",
        "\n",
        "spark = SparkSession.builder \\\n",
        "    .appName(\"Unsupervised Learning with MLlib\") \\\n",
        "    .config(\"spark.executor.memory\", \"4g\") \\\n",
        "    .getOrCreate()"
      ]
    },
    {
      "cell_type": "markdown",
      "source": [
        "Membuat koneksi awal ke engine Apache Spark. Cell ini adalah fondasi untuk memulai semua operasi Spark.\n",
        "- appName memberi nama pada aplikasi (penting saat memonitor di Spark UI).\n",
        "- config(\"spark.executor.memory\", \"4g\") memberikan masing-masing executor memori 4GB.\n",
        "- getOrCreate() memastikan SparkSession hanya dibuat sekali (idempotent)."
      ],
      "metadata": {
        "id": "x3g_X9wfF4lu"
      },
      "id": "x3g_X9wfF4lu"
    },
    {
      "cell_type": "code",
      "execution_count": null,
      "id": "e942f388-a61f-4fd2-9206-7830ee93b67f",
      "metadata": {
        "id": "e942f388-a61f-4fd2-9206-7830ee93b67f"
      },
      "outputs": [],
      "source": [
        "from pyspark.ml.linalg import Vectors\n",
        "\n",
        "data = [\n",
        "    (Vectors.dense([5.1, 3.5, 1.4, 0.2]),),\n",
        "    (Vectors.dense([4.9, 3.0, 1.4, 0.2]),),\n",
        "    (Vectors.dense([4.7, 3.2, 1.3, 0.2]),),\n",
        "    (Vectors.dense([7.0, 3.2, 4.7, 1.4]),),\n",
        "    (Vectors.dense([6.4, 3.2, 4.5, 1.5]),),\n",
        "    (Vectors.dense([6.9, 3.1, 4.9, 1.5]),)\n",
        "]\n",
        "\n",
        "df = spark.createDataFrame(data, [\"features\"])"
      ]
    },
    {
      "cell_type": "markdown",
      "source": [
        "Membuat dataset sederhana berupa vektor berdimensi 4 (mirip dataset bunga iris) dan mengemasnya dalam DataFrame Spark.\n",
        "- Setiap baris adalah satu data poin dengan empat fitur numerik.\n",
        "- Disimpan dalam kolom bernama \"features\"."
      ],
      "metadata": {
        "id": "tzI9vWrdFerU"
      },
      "id": "tzI9vWrdFerU"
    },
    {
      "cell_type": "code",
      "execution_count": null,
      "id": "17904d78-02cc-4cd3-988a-f530d47f6ba3",
      "metadata": {
        "id": "17904d78-02cc-4cd3-988a-f530d47f6ba3"
      },
      "outputs": [],
      "source": [
        "from pyspark.ml.feature import VectorAssembler, StandardScaler\n",
        "\n",
        "\n",
        "scaler = StandardScaler(\n",
        "    inputCol=\"features\",\n",
        "    outputCol=\"scaled_features\",\n",
        "    withStd=True,\n",
        "    withMean=True)\n",
        "\n",
        "scaled_df = scaler.fit(df).transform(df)\n"
      ]
    },
    {
      "cell_type": "markdown",
      "source": [
        "Melakukan standardisasi fitur (mean = 0, std = 1) agar semua fitur berada dalam skala yang sama.\n",
        "Hal ini penting untuk algoritma seperti K-Means, yang sensitif terhadap skala data.\n",
        "- Outputnya adalah DataFrame baru dengan kolom tambahan scaled_features."
      ],
      "metadata": {
        "id": "6L-ZqgetGBEq"
      },
      "id": "6L-ZqgetGBEq"
    },
    {
      "cell_type": "code",
      "execution_count": null,
      "id": "4ed7a0fb-aaac-48f0-807e-27a4f6610586",
      "metadata": {
        "colab": {
          "base_uri": "https://localhost:8080/"
        },
        "id": "4ed7a0fb-aaac-48f0-807e-27a4f6610586",
        "outputId": "7ea68cd0-3d38-4419-d5da-31b45afbad0f"
      },
      "outputs": [
        {
          "output_type": "stream",
          "name": "stdout",
          "text": [
            "+-----------------+--------------------+----------+\n",
            "|         features|     scaled_features|prediction|\n",
            "+-----------------+--------------------+----------+\n",
            "|[5.1,3.5,1.4,0.2]|[-0.6983599143217...|         1|\n",
            "|[4.9,3.0,1.4,0.2]|[-0.8888217091367...|         1|\n",
            "|[4.7,3.2,1.3,0.2]|[-1.0792835039517...|         1|\n",
            "|[7.0,3.2,4.7,1.4]|[1.11102713642096...|         0|\n",
            "|[6.4,3.2,4.5,1.5]|[0.53964175197589...|         2|\n",
            "|[6.9,3.1,4.9,1.5]|[1.01579623901345...|         0|\n",
            "+-----------------+--------------------+----------+\n",
            "\n"
          ]
        }
      ],
      "source": [
        "from pyspark.ml.clustering import KMeans\n",
        "\n",
        "kmeans = KMeans().setK(3).setSeed(1)\n",
        "model = kmeans.fit(scaled_df)\n",
        "\n",
        "# Prediksi cluster\n",
        "predictions = model.transform(scaled_df)\n",
        "predictions.show()"
      ]
    },
    {
      "cell_type": "markdown",
      "source": [
        "Melatih model K-Means untuk membagi data menjadi 3 cluster (K=3).\n",
        "- fit(...) mempelajari posisi centroid dari data.\n",
        "- transform(...) menambahkan kolom \"prediction\" ke DataFrame, yaitu label cluster untuk setiap baris."
      ],
      "metadata": {
        "id": "noqNsWdPGI_Y"
      },
      "id": "noqNsWdPGI_Y"
    },
    {
      "cell_type": "code",
      "execution_count": null,
      "id": "5d757ec3-c082-46d5-bea2-340eeed6ec79",
      "metadata": {
        "colab": {
          "base_uri": "https://localhost:8080/"
        },
        "id": "5d757ec3-c082-46d5-bea2-340eeed6ec79",
        "outputId": "7933e1bc-0a17-481f-ef91-5c308dedcce9"
      },
      "outputs": [
        {
          "output_type": "stream",
          "name": "stdout",
          "text": [
            "Silhouette with squared euclidean distance = 0.7692979876379087\n",
            "Within Set Sum of Squared Errors = 0.24833333333333313\n"
          ]
        }
      ],
      "source": [
        "from pyspark.ml.evaluation import ClusteringEvaluator\n",
        "\n",
        "evaluator = ClusteringEvaluator()\n",
        "silhouette = evaluator.evaluate(predictions)\n",
        "print(\"Silhouette with squared euclidean distance = \" + str(silhouette))\n",
        "\n",
        "# Within Set Sum of Squared Errors\n",
        "\n",
        "# Dengan ini:\n",
        "wssse = model.summary.trainingCost\n",
        "print(\"Within Set Sum of Squared Errors = \" + str(wssse))"
      ]
    },
    {
      "cell_type": "markdown",
      "source": [
        "Menilai kualitas hasil clustering dengan dua metrik:\n",
        "- Silhouette Score: mengukur seberapa baik masing-masing data cocok dengan cluster-nya (nilai dekat 1 = baik).\n",
        "- WSSSE: total jarak kuadrat antara data dan centroid-nya (semakin kecil = lebih kompak)."
      ],
      "metadata": {
        "id": "Qgr88EtZGPvI"
      },
      "id": "Qgr88EtZGPvI"
    },
    {
      "cell_type": "code",
      "execution_count": null,
      "id": "a079d390-940f-4333-95f7-34f75933236c",
      "metadata": {
        "colab": {
          "base_uri": "https://localhost:8080/",
          "height": 559
        },
        "id": "a079d390-940f-4333-95f7-34f75933236c",
        "outputId": "498a7f13-8c37-476c-a8e6-0ae5cdc2d4bc"
      },
      "outputs": [
        {
          "output_type": "stream",
          "name": "stdout",
          "text": [
            "K=2, WSSSE=0.5133333333333331\n",
            "K=3, WSSSE=0.24833333333333313\n",
            "K=4, WSSSE=0.08000000000000007\n",
            "K=5, WSSSE=0.03500000000000002\n",
            "K=6, WSSSE=0.0\n"
          ]
        },
        {
          "output_type": "display_data",
          "data": {
            "text/plain": [
              "<Figure size 640x480 with 1 Axes>"
            ],
            "image/png": "[encoded data removed]"
          },
          "metadata": {}
        }
      ],
      "source": [
        "import matplotlib.pyplot as plt\n",
        "\n",
        "costs = []\n",
        "for k in range(2, 7):\n",
        "    kmeans = KMeans().setK(k).setSeed(1)\n",
        "    model = kmeans.fit(scaled_df)\n",
        "    costs.append(model.summary.trainingCost)  # Gunakan trainingCost\n",
        "    print(f\"K={k}, WSSSE={costs[-1]}\")\n",
        "\n",
        "# Visualisasi\n",
        "import matplotlib.pyplot as plt\n",
        "plt.plot(range(2, 7), costs, 'bo-')\n",
        "plt.xlabel('Number of clusters (K)')\n",
        "plt.ylabel('WSSSE')\n",
        "plt.title('Elbow Method')\n",
        "plt.show()"
      ]
    },
    {
      "cell_type": "markdown",
      "source": [
        "Menguji beberapa nilai K (jumlah cluster) dari 2 hingga 6, lalu menghitung WSSSE untuk masing-masing.\n",
        "- Visualisasi Elbow membantu memilih jumlah cluster optimal (titik tekuk di grafik menunjukkan K terbaik)."
      ],
      "metadata": {
        "id": "H0BMVSYZGTxi"
      },
      "id": "H0BMVSYZGTxi"
    },
    {
      "cell_type": "code",
      "execution_count": null,
      "id": "56d61fa6-1647-498f-a085-04dd1822e06f",
      "metadata": {
        "colab": {
          "base_uri": "https://localhost:8080/"
        },
        "id": "56d61fa6-1647-498f-a085-04dd1822e06f",
        "outputId": "051f3fb5-c0ae-40f8-eec7-3d7161ae2749"
      },
      "outputs": [
        {
          "output_type": "stream",
          "name": "stdout",
          "text": [
            "+----------------------------------------+\n",
            "|pca_features                            |\n",
            "+----------------------------------------+\n",
            "|[-3.5540691264840634,-5.181690130080334]|\n",
            "|[-3.4683844688148184,-4.750235698266647]|\n",
            "|[-3.2887208403812265,-4.753062654835078]|\n",
            "|[-7.550562728189455,-5.077394269765552] |\n",
            "|[-7.135091699496945,-4.679675606096402] |\n",
            "|[-7.701700199921556,-4.86375149478825]  |\n",
            "+----------------------------------------+\n",
            "\n"
          ]
        }
      ],
      "source": [
        "from pyspark.ml.feature import PCA\n",
        "\n",
        "pca = PCA(k=2, inputCol=\"features\", outputCol=\"pca_features\")\n",
        "pca_model = pca.fit(scaled_df)\n",
        "\n",
        "# Transform data\n",
        "pca_result = pca_model.transform(scaled_df)\n",
        "pca_result.select(\"pca_features\").show(truncate=False)"
      ]
    },
    {
      "cell_type": "markdown",
      "source": [
        "Menggunakan Principal Component Analysis (PCA) untuk mereduksi dimensi data dari 4D → 2D.\n",
        "- Ini dilakukan agar data bisa divisualisasikan dan pola cluster bisa dilihat secara visual."
      ],
      "metadata": {
        "id": "uo9aWceVGYWU"
      },
      "id": "uo9aWceVGYWU"
    },
    {
      "cell_type": "code",
      "execution_count": null,
      "id": "0be1ebc7-297e-46ae-aae1-4071fad5d567",
      "metadata": {
        "colab": {
          "base_uri": "https://localhost:8080/",
          "height": 472
        },
        "id": "0be1ebc7-297e-46ae-aae1-4071fad5d567",
        "outputId": "bcbafd11-8396-4350-e12e-2be101ba0de0"
      },
      "outputs": [
        {
          "output_type": "display_data",
          "data": {
            "text/plain": [
              "<Figure size 640x480 with 1 Axes>"
            ],
            "image/png": "[encoded data removed]"
          },
          "metadata": {}
        }
      ],
      "source": [
        "import numpy as np\n",
        "\n",
        "# Ekstrak komponen utama\n",
        "pca_data = pca_result.select(\"pca_features\").rdd.map(lambda x: x[0]).collect()\n",
        "x = [float(d[0]) for d in pca_data]\n",
        "y = [float(d[1]) for d in pca_data]\n",
        "\n",
        "plt.scatter(x, y)\n",
        "plt.xlabel('Principal Component 1')\n",
        "plt.ylabel('Principal Component 2')\n",
        "plt.title('PCA Result')\n",
        "plt.show()"
      ]
    },
    {
      "cell_type": "markdown",
      "source": [
        "Mengambil hasil PCA dan menggambarkannya dalam grafik 2D scatter plot.\n",
        "- Membantu melihat distribusi alami dari data setelah dimensi dikurangi."
      ],
      "metadata": {
        "id": "IGkI82lWGj-F"
      },
      "id": "IGkI82lWGj-F"
    },
    {
      "cell_type": "code",
      "execution_count": null,
      "id": "ecce195a-1f64-4ea9-865d-6d14fdbb5ae0",
      "metadata": {
        "colab": {
          "base_uri": "https://localhost:8080/"
        },
        "id": "ecce195a-1f64-4ea9-865d-6d14fdbb5ae0",
        "outputId": "64096959-a38c-4263-b82d-07cd2ede55ac"
      },
      "outputs": [
        {
          "output_type": "stream",
          "name": "stdout",
          "text": [
            "+--------------------+----------+\n",
            "|        pca_features|prediction|\n",
            "+--------------------+----------+\n",
            "|[-3.5540691264840...|         1|\n",
            "|[-3.4683844688148...|         1|\n",
            "|[-3.2887208403812...|         1|\n",
            "|[-7.5505627281894...|         0|\n",
            "|[-7.1350916994969...|         2|\n",
            "|[-7.7017001999215...|         0|\n",
            "+--------------------+----------+\n",
            "\n"
          ]
        }
      ],
      "source": [
        "kmeans_pca = KMeans().setK(3).setSeed(1).setFeaturesCol(\"pca_features\")\n",
        "pca_kmeans_model = kmeans_pca.fit(pca_result)\n",
        "\n",
        "# Prediksi cluster\n",
        "pca_predictions = pca_kmeans_model.transform(pca_result)\n",
        "pca_predictions.select(\"pca_features\", \"prediction\").show()"
      ]
    },
    {
      "cell_type": "markdown",
      "source": [
        "Melakukan ulang proses K-Means, tetapi menggunakan data hasil PCA (2D).\n",
        "- Ini berguna untuk evaluasi atau visualisasi yang lebih sederhana."
      ],
      "metadata": {
        "id": "6Qfuk939GmwK"
      },
      "id": "6Qfuk939GmwK"
    },
    {
      "cell_type": "code",
      "execution_count": null,
      "id": "f523f648-335f-46fa-966c-82a4e6471045",
      "metadata": {
        "colab": {
          "base_uri": "https://localhost:8080/",
          "height": 472
        },
        "id": "f523f648-335f-46fa-966c-82a4e6471045",
        "outputId": "55f3b6d8-cf2f-4a0a-9d7e-85c6835cd65c"
      },
      "outputs": [
        {
          "output_type": "display_data",
          "data": {
            "text/plain": [
              "<Figure size 640x480 with 2 Axes>"
            ],
            "image/png": "[encoded data removed]"
          },
          "metadata": {}
        }
      ],
      "source": [
        "# Gabungkan hasil clustering dengan data PCA\n",
        "cluster_data = pca_predictions.select(\"pca_features\", \"prediction\").collect()\n",
        "x = [float(d[0][0]) for d in cluster_data]\n",
        "y = [float(d[0][1]) for d in cluster_data]\n",
        "clusters = [int(d[1]) for d in cluster_data]\n",
        "\n",
        "plt.scatter(x, y, c=clusters)\n",
        "plt.xlabel('Principal Component 1')\n",
        "plt.ylabel('Principal Component 2')\n",
        "plt.title('Clustering after PCA')\n",
        "plt.colorbar()\n",
        "plt.show()"
      ]
    },
    {
      "cell_type": "markdown",
      "source": [
        "Membuat visualisasi akhir dari hasil clustering setelah data direduksi dengan PCA.\n",
        "- Titik-titik diberi warna sesuai cluster-nya.\n",
        "- Membantu memverifikasi apakah cluster yang ditemukan secara visual terpisah dengan baik."
      ],
      "metadata": {
        "id": "zcF8BPKlGqOs"
      },
      "id": "zcF8BPKlGqOs"
    },
    {
      "cell_type": "code",
      "execution_count": null,
      "id": "4d98fb7e-731c-4117-bfa1-8cc2397d5793",
      "metadata": {
        "id": "4d98fb7e-731c-4117-bfa1-8cc2397d5793"
      },
      "outputs": [],
      "source": []
    }
  ],
  "metadata": {
    "kernelspec": {
      "display_name": "Python 3 (ipykernel)",
      "language": "python",
      "name": "python3"
    },
    "language_info": {
      "codemirror_mode": {
        "name": "ipython",
        "version": 3
      },
      "file_extension": ".py",
      "mimetype": "text/x-python",
      "name": "python",
      "nbconvert_exporter": "python",
      "pygments_lexer": "ipython3",
      "version": "3.11.6"
    },
    "colab": {
      "provenance": []
    }
  },
  "nbformat": 4,
  "nbformat_minor": 5
}